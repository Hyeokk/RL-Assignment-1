{
 "cells": [
  {
   "cell_type": "code",
   "execution_count": 1,
   "id": "150881b2",
   "metadata": {
    "scrolled": true
   },
   "outputs": [],
   "source": [
    "import numpy as np\n",
    "import pandas as pd\n",
    "import random\n",
    "from collections import defaultdict\n",
    "import gymnasium\n",
    "import minigrid\n",
    "import matplotlib.pyplot as plt\n",
    "%matplotlib inline"
   ]
  },
  {
   "cell_type": "code",
   "execution_count": 2,
   "id": "bb3475c0",
   "metadata": {
    "scrolled": true
   },
   "outputs": [],
   "source": [
    "class SARSA:\n",
    "    def __init__(self, actions, agent_indicator=10):\n",
    "        self.actions = actions\n",
    "        self.agent_indicator = agent_indicator\n",
    "        self.alpha = 0.01\n",
    "        self.gamma = 0.1\n",
    "        self.epsilon = 0.3\n",
    "        self.q_values = defaultdict(lambda: [0.0] * actions)\n",
    "        \n",
    "    def _convert_state(self, s):\n",
    "        return np.where(s == self.agent_indicator)[0][0]\n",
    "        \n",
    "    def update(self, state, action, reward, next_state, next_action):\n",
    "        state = self._convert_state(state)\n",
    "        next_state = self._convert_state(next_state)\n",
    "        \n",
    "        q_value = self.q_values[state][action]\n",
    "        \n",
    "        ########################## Write Code ####################################\n",
    "        \n",
    "        next_q_value = self.q_values[next_state][next_action]\n",
    "        \n",
    "        td_error = reward + self.gamma * next_q_value - q_value\n",
    "        self.q_values[state][action] = q_value + self.alpha * td_error\n",
    "        ###########################################################################\n",
    "    def act(self, state):\n",
    "        #################### Write epsilion greedy code ###########################\n",
    "        if np.random.rand() < self.epsilon:\n",
    "            action = np.random.choice(self.actions)\n",
    "        else:\n",
    "            state = self._convert_state(state)\n",
    "            q_values = self.q_values[state]\n",
    "            action = np.argmax(q_values)\n",
    "        ###########################################################################\n",
    "        return action"
   ]
  },
  {
   "cell_type": "code",
   "execution_count": 3,
   "id": "90706d6e",
   "metadata": {
    "scrolled": true
   },
   "outputs": [],
   "source": [
    "from utils import gen_wrapped_env, show_video\n",
    "from utils_plot import clear_video_folder"
   ]
  },
  {
   "cell_type": "code",
   "execution_count": 4,
   "id": "d048dbff",
   "metadata": {
    "scrolled": true
   },
   "outputs": [
    {
     "name": "stderr",
     "output_type": "stream",
     "text": [
      "/opt/anaconda3/envs/rl_env/lib/python3.9/site-packages/gymnasium/wrappers/record_video.py:87: UserWarning: \u001b[33mWARN: Overwriting existing videos at /Users/hyeokk/hyeokk_ws/Reinforcement Learning/Reinforcement Learning Assignment/SARSA,Q-Learning/Sarsa&Q-learning/video folder (try specifying a different `video_folder` for the `RecordVideo` wrapper if this is not desired)\u001b[0m\n",
      "  logger.warn(\n"
     ]
    }
   ],
   "source": [
    "env = gen_wrapped_env('MiniGrid-Empty-6x6-v0')\n",
    "#env = gen_wrapped_env('MiniGrid-DoorKey-5x5-v0')\n",
    "\n",
    "obs, info = env.reset()\n",
    "\n",
    "agent_position = obs[0]\n",
    "\n",
    "agent = SARSA(3, agent_position)"
   ]
  },
  {
   "cell_type": "code",
   "execution_count": 5,
   "id": "f7e8c55c",
   "metadata": {
    "scrolled": true
   },
   "outputs": [
    {
     "name": "stdout",
     "output_type": "stream",
     "text": [
      "MoviePy - Building video /Users/hyeokk/hyeokk_ws/Reinforcement Learning/Reinforcement Learning Assignment/SARSA,Q-Learning/Sarsa&Q-learning/video/rl-video-episode-0.mp4.\n",
      "MoviePy - Writing video /Users/hyeokk/hyeokk_ws/Reinforcement Learning/Reinforcement Learning Assignment/SARSA,Q-Learning/Sarsa&Q-learning/video/rl-video-episode-0.mp4\n",
      "\n"
     ]
    },
    {
     "name": "stderr",
     "output_type": "stream",
     "text": [
      "                                                                                "
     ]
    },
    {
     "name": "stdout",
     "output_type": "stream",
     "text": [
      "MoviePy - Done !\n",
      "MoviePy - video ready /Users/hyeokk/hyeokk_ws/Reinforcement Learning/Reinforcement Learning Assignment/SARSA,Q-Learning/Sarsa&Q-learning/video/rl-video-episode-0.mp4\n",
      "MoviePy - Building video /Users/hyeokk/hyeokk_ws/Reinforcement Learning/Reinforcement Learning Assignment/SARSA,Q-Learning/Sarsa&Q-learning/video/rl-video-episode-1.mp4.\n",
      "MoviePy - Writing video /Users/hyeokk/hyeokk_ws/Reinforcement Learning/Reinforcement Learning Assignment/SARSA,Q-Learning/Sarsa&Q-learning/video/rl-video-episode-1.mp4\n",
      "\n"
     ]
    },
    {
     "name": "stderr",
     "output_type": "stream",
     "text": [
      "                                                                                "
     ]
    },
    {
     "name": "stdout",
     "output_type": "stream",
     "text": [
      "MoviePy - Done !\n",
      "MoviePy - video ready /Users/hyeokk/hyeokk_ws/Reinforcement Learning/Reinforcement Learning Assignment/SARSA,Q-Learning/Sarsa&Q-learning/video/rl-video-episode-1.mp4\n",
      "MoviePy - Building video /Users/hyeokk/hyeokk_ws/Reinforcement Learning/Reinforcement Learning Assignment/SARSA,Q-Learning/Sarsa&Q-learning/video/rl-video-episode-8.mp4.\n",
      "MoviePy - Writing video /Users/hyeokk/hyeokk_ws/Reinforcement Learning/Reinforcement Learning Assignment/SARSA,Q-Learning/Sarsa&Q-learning/video/rl-video-episode-8.mp4\n",
      "\n"
     ]
    },
    {
     "name": "stderr",
     "output_type": "stream",
     "text": [
      "                                                                                "
     ]
    },
    {
     "name": "stdout",
     "output_type": "stream",
     "text": [
      "MoviePy - Done !\n",
      "MoviePy - video ready /Users/hyeokk/hyeokk_ws/Reinforcement Learning/Reinforcement Learning Assignment/SARSA,Q-Learning/Sarsa&Q-learning/video/rl-video-episode-8.mp4\n",
      "episode: 20, rewards: 0\n"
     ]
    },
    {
     "name": "stderr",
     "output_type": "stream",
     "text": []
    },
    {
     "name": "stdout",
     "output_type": "stream",
     "text": [
      "MoviePy - Building video /Users/hyeokk/hyeokk_ws/Reinforcement Learning/Reinforcement Learning Assignment/SARSA,Q-Learning/Sarsa&Q-learning/video/rl-video-episode-27.mp4.\n",
      "MoviePy - Writing video /Users/hyeokk/hyeokk_ws/Reinforcement Learning/Reinforcement Learning Assignment/SARSA,Q-Learning/Sarsa&Q-learning/video/rl-video-episode-27.mp4\n",
      "\n"
     ]
    },
    {
     "name": "stderr",
     "output_type": "stream",
     "text": [
      "                                                                                "
     ]
    },
    {
     "name": "stdout",
     "output_type": "stream",
     "text": [
      "MoviePy - Done !\n",
      "MoviePy - video ready /Users/hyeokk/hyeokk_ws/Reinforcement Learning/Reinforcement Learning Assignment/SARSA,Q-Learning/Sarsa&Q-learning/video/rl-video-episode-27.mp4\n"
     ]
    },
    {
     "name": "stderr",
     "output_type": "stream",
     "text": []
    },
    {
     "name": "stdout",
     "output_type": "stream",
     "text": [
      "episode: 40, rewards: 0\n",
      "episode: 60, rewards: 0\n",
      "MoviePy - Building video /Users/hyeokk/hyeokk_ws/Reinforcement Learning/Reinforcement Learning Assignment/SARSA,Q-Learning/Sarsa&Q-learning/video/rl-video-episode-64.mp4.\n",
      "MoviePy - Writing video /Users/hyeokk/hyeokk_ws/Reinforcement Learning/Reinforcement Learning Assignment/SARSA,Q-Learning/Sarsa&Q-learning/video/rl-video-episode-64.mp4\n",
      "\n"
     ]
    },
    {
     "name": "stderr",
     "output_type": "stream",
     "text": [
      "                                                                                "
     ]
    },
    {
     "name": "stdout",
     "output_type": "stream",
     "text": [
      "MoviePy - Done !\n",
      "MoviePy - video ready /Users/hyeokk/hyeokk_ws/Reinforcement Learning/Reinforcement Learning Assignment/SARSA,Q-Learning/Sarsa&Q-learning/video/rl-video-episode-64.mp4\n",
      "episode: 80, rewards: 0\n",
      "episode: 100, rewards: 0\n",
      "episode: 120, rewards: 0\n"
     ]
    },
    {
     "name": "stderr",
     "output_type": "stream",
     "text": []
    },
    {
     "name": "stdout",
     "output_type": "stream",
     "text": [
      "MoviePy - Building video /Users/hyeokk/hyeokk_ws/Reinforcement Learning/Reinforcement Learning Assignment/SARSA,Q-Learning/Sarsa&Q-learning/video/rl-video-episode-125.mp4.\n",
      "MoviePy - Writing video /Users/hyeokk/hyeokk_ws/Reinforcement Learning/Reinforcement Learning Assignment/SARSA,Q-Learning/Sarsa&Q-learning/video/rl-video-episode-125.mp4\n",
      "\n"
     ]
    },
    {
     "name": "stderr",
     "output_type": "stream",
     "text": [
      "                                                                                "
     ]
    },
    {
     "name": "stdout",
     "output_type": "stream",
     "text": [
      "MoviePy - Done !\n",
      "MoviePy - video ready /Users/hyeokk/hyeokk_ws/Reinforcement Learning/Reinforcement Learning Assignment/SARSA,Q-Learning/Sarsa&Q-learning/video/rl-video-episode-125.mp4\n",
      "episode: 140, rewards: 0\n",
      "episode: 160, rewards: 0\n"
     ]
    },
    {
     "name": "stderr",
     "output_type": "stream",
     "text": []
    },
    {
     "name": "stdout",
     "output_type": "stream",
     "text": [
      "episode: 180, rewards: 0\n",
      "episode: 200, rewards: 0\n",
      "MoviePy - Building video /Users/hyeokk/hyeokk_ws/Reinforcement Learning/Reinforcement Learning Assignment/SARSA,Q-Learning/Sarsa&Q-learning/video/rl-video-episode-216.mp4.\n",
      "MoviePy - Writing video /Users/hyeokk/hyeokk_ws/Reinforcement Learning/Reinforcement Learning Assignment/SARSA,Q-Learning/Sarsa&Q-learning/video/rl-video-episode-216.mp4\n",
      "\n"
     ]
    },
    {
     "name": "stderr",
     "output_type": "stream",
     "text": [
      "                                                                                "
     ]
    },
    {
     "name": "stdout",
     "output_type": "stream",
     "text": [
      "MoviePy - Done !\n",
      "MoviePy - video ready /Users/hyeokk/hyeokk_ws/Reinforcement Learning/Reinforcement Learning Assignment/SARSA,Q-Learning/Sarsa&Q-learning/video/rl-video-episode-216.mp4\n",
      "episode: 220, rewards: 0\n",
      "episode: 240, rewards: 0\n",
      "episode: 260, rewards: 0"
     ]
    },
    {
     "name": "stderr",
     "output_type": "stream",
     "text": []
    },
    {
     "name": "stdout",
     "output_type": "stream",
     "text": [
      "\n",
      "episode: 280, rewards: 0\n",
      "episode: 300, rewards: 0\n",
      "episode: 320, rewards: 0\n",
      "episode: 340, rewards: 0\n",
      "MoviePy - Building video /Users/hyeokk/hyeokk_ws/Reinforcement Learning/Reinforcement Learning Assignment/SARSA,Q-Learning/Sarsa&Q-learning/video/rl-video-episode-343.mp4.\n",
      "MoviePy - Writing video /Users/hyeokk/hyeokk_ws/Reinforcement Learning/Reinforcement Learning Assignment/SARSA,Q-Learning/Sarsa&Q-learning/video/rl-video-episode-343.mp4\n",
      "\n"
     ]
    },
    {
     "name": "stderr",
     "output_type": "stream",
     "text": [
      "                                                                                "
     ]
    },
    {
     "name": "stdout",
     "output_type": "stream",
     "text": [
      "MoviePy - Done !\n",
      "MoviePy - video ready /Users/hyeokk/hyeokk_ws/Reinforcement Learning/Reinforcement Learning Assignment/SARSA,Q-Learning/Sarsa&Q-learning/video/rl-video-episode-343.mp4\n",
      "episode: 360, rewards: 0.118\n",
      "episode: 380, rewards: 0\n",
      "episode: 400, rewards: 0\n"
     ]
    },
    {
     "name": "stderr",
     "output_type": "stream",
     "text": []
    },
    {
     "name": "stdout",
     "output_type": "stream",
     "text": [
      "episode: 420, rewards: 0\n",
      "episode: 440, rewards: 0.838\n",
      "episode: 460, rewards: 0\n",
      "episode: 480, rewards: 0.4959999999999999\n",
      "episode: 500, rewards: 0\n",
      "MoviePy - Building video /Users/hyeokk/hyeokk_ws/Reinforcement Learning/Reinforcement Learning Assignment/SARSA,Q-Learning/Sarsa&Q-learning/video/rl-video-episode-512.mp4.\n",
      "MoviePy - Writing video /Users/hyeokk/hyeokk_ws/Reinforcement Learning/Reinforcement Learning Assignment/SARSA,Q-Learning/Sarsa&Q-learning/video/rl-video-episode-512.mp4\n",
      "\n"
     ]
    },
    {
     "name": "stderr",
     "output_type": "stream",
     "text": [
      "                                                                                "
     ]
    },
    {
     "name": "stdout",
     "output_type": "stream",
     "text": [
      "MoviePy - Done !\n",
      "MoviePy - video ready /Users/hyeokk/hyeokk_ws/Reinforcement Learning/Reinforcement Learning Assignment/SARSA,Q-Learning/Sarsa&Q-learning/video/rl-video-episode-512.mp4\n",
      "episode: 520, rewards: 0.478\n",
      "episode: 540, rewards: 0.31599999999999995\n",
      "episode: 560, rewards: 0.09999999999999998\n",
      "episode: 580, rewards: 0.514"
     ]
    },
    {
     "name": "stderr",
     "output_type": "stream",
     "text": []
    },
    {
     "name": "stdout",
     "output_type": "stream",
     "text": [
      "\n",
      "episode: 600, rewards: 0.766\n",
      "episode: 620, rewards: 0.6759999999999999\n",
      "episode: 640, rewards: 0\n",
      "episode: 660, rewards: 0.622\n",
      "episode: 680, rewards: 0.5680000000000001\n",
      "episode: 700, rewards: 0\n",
      "episode: 720, rewards: 0.478\n",
      "MoviePy - Building video /Users/hyeokk/hyeokk_ws/Reinforcement Learning/Reinforcement Learning Assignment/SARSA,Q-Learning/Sarsa&Q-learning/video/rl-video-episode-729.mp4.\n",
      "MoviePy - Writing video /Users/hyeokk/hyeokk_ws/Reinforcement Learning/Reinforcement Learning Assignment/SARSA,Q-Learning/Sarsa&Q-learning/video/rl-video-episode-729.mp4\n",
      "\n"
     ]
    },
    {
     "name": "stderr",
     "output_type": "stream",
     "text": [
      "                                                                                "
     ]
    },
    {
     "name": "stdout",
     "output_type": "stream",
     "text": [
      "MoviePy - Done !\n",
      "MoviePy - video ready /Users/hyeokk/hyeokk_ws/Reinforcement Learning/Reinforcement Learning Assignment/SARSA,Q-Learning/Sarsa&Q-learning/video/rl-video-episode-729.mp4\n",
      "episode: 740, rewards: 0\n",
      "episode: 760, rewards: 0.856\n",
      "episode: 780, rewards: 0.118\n"
     ]
    },
    {
     "name": "stderr",
     "output_type": "stream",
     "text": []
    },
    {
     "name": "stdout",
     "output_type": "stream",
     "text": [
      "episode: 800, rewards: 0.856\n",
      "episode: 820, rewards: 0.4059999999999999\n",
      "episode: 840, rewards: 0\n",
      "episode: 860, rewards: 0\n",
      "episode: 880, rewards: 0\n",
      "episode: 900, rewards: 0.856\n",
      "episode: 920, rewards: 0.136\n",
      "episode: 940, rewards: 0\n",
      "episode: 960, rewards: 0\n",
      "episode: 980, rewards: 0\n",
      "episode: 1000, rewards: 0.802\n",
      "MoviePy - Building video /Users/hyeokk/hyeokk_ws/Reinforcement Learning/Reinforcement Learning Assignment/SARSA,Q-Learning/Sarsa&Q-learning/video/rl-video-episode-1000.mp4.\n",
      "MoviePy - Writing video /Users/hyeokk/hyeokk_ws/Reinforcement Learning/Reinforcement Learning Assignment/SARSA,Q-Learning/Sarsa&Q-learning/video/rl-video-episode-1000.mp4\n",
      "\n"
     ]
    },
    {
     "name": "stderr",
     "output_type": "stream",
     "text": [
      "                                                                                "
     ]
    },
    {
     "name": "stdout",
     "output_type": "stream",
     "text": [
      "MoviePy - Done !\n",
      "MoviePy - video ready /Users/hyeokk/hyeokk_ws/Reinforcement Learning/Reinforcement Learning Assignment/SARSA,Q-Learning/Sarsa&Q-learning/video/rl-video-episode-1000.mp4\n",
      "episode: 1020, rewards: 0\n",
      "episode: 1040, rewards: 0.15400000000000003\n"
     ]
    },
    {
     "name": "stderr",
     "output_type": "stream",
     "text": []
    },
    {
     "name": "stdout",
     "output_type": "stream",
     "text": [
      "episode: 1060, rewards: 0.586\n",
      "episode: 1080, rewards: 0.784\n",
      "episode: 1100, rewards: 0\n",
      "episode: 1120, rewards: 0\n",
      "episode: 1140, rewards: 0.748\n",
      "episode: 1160, rewards: 0\n",
      "episode: 1180, rewards: 0.6399999999999999\n",
      "episode: 1200, rewards: 0\n",
      "episode: 1220, rewards: 0.622\n",
      "episode: 1240, rewards: 0.82\n",
      "episode: 1260, rewards: 0.82\n",
      "episode: 1280, rewards: 0.874\n",
      "episode: 1300, rewards: 0.838\n",
      "episode: 1320, rewards: 0\n",
      "episode: 1340, rewards: 0.136\n",
      "episode: 1360, rewards: 0\n",
      "episode: 1380, rewards: 0.586\n",
      "episode: 1400, rewards: 0.09999999999999998\n",
      "episode: 1420, rewards: 0.6579999999999999\n",
      "episode: 1440, rewards: 0\n",
      "episode: 1460, rewards: 0.622\n",
      "episode: 1480, rewards: 0.82\n",
      "episode: 1500, rewards: 0.6399999999999999\n",
      "episode: 1520, rewards: 0\n",
      "episode: 1540, rewards: 0.856\n",
      "episode: 1560, rewards: 0.6579999999999999\n",
      "episode: 1580, rewards: 0.6759999999999999\n",
      "episode: 1600, rewards: 0\n",
      "episode: 1620, rewards: 0\n",
      "episode: 1640, rewards: 0\n",
      "episode: 1660, rewards: 0\n",
      "episode: 1680, rewards: 0.31599999999999995\n",
      "episode: 1700, rewards: 0\n",
      "episode: 1720, rewards: 0.784\n",
      "episode: 1740, rewards: 0.55\n",
      "episode: 1760, rewards: 0.874\n",
      "episode: 1780, rewards: 0.3879999999999999\n",
      "episode: 1800, rewards: 0.55\n",
      "episode: 1820, rewards: 0\n",
      "episode: 1840, rewards: 0.802\n",
      "episode: 1860, rewards: 0.748\n",
      "episode: 1880, rewards: 0.856\n",
      "episode: 1900, rewards: 0.766\n",
      "episode: 1920, rewards: 0\n",
      "episode: 1940, rewards: 0\n",
      "episode: 1960, rewards: 0\n",
      "episode: 1980, rewards: 0.712\n",
      "episode: 2000, rewards: 0.33399999999999996\n",
      "MoviePy - Building video /Users/hyeokk/hyeokk_ws/Reinforcement Learning/Reinforcement Learning Assignment/SARSA,Q-Learning/Sarsa&Q-learning/video/rl-video-episode-2000.mp4.\n",
      "MoviePy - Writing video /Users/hyeokk/hyeokk_ws/Reinforcement Learning/Reinforcement Learning Assignment/SARSA,Q-Learning/Sarsa&Q-learning/video/rl-video-episode-2000.mp4\n",
      "\n"
     ]
    },
    {
     "name": "stderr",
     "output_type": "stream",
     "text": [
      "                                                                                "
     ]
    },
    {
     "name": "stdout",
     "output_type": "stream",
     "text": [
      "MoviePy - Done !\n",
      "MoviePy - video ready /Users/hyeokk/hyeokk_ws/Reinforcement Learning/Reinforcement Learning Assignment/SARSA,Q-Learning/Sarsa&Q-learning/video/rl-video-episode-2000.mp4\n",
      "episode: 2020, rewards: 0.29799999999999993\n"
     ]
    },
    {
     "name": "stderr",
     "output_type": "stream",
     "text": []
    },
    {
     "name": "stdout",
     "output_type": "stream",
     "text": [
      "episode: 2040, rewards: 0.532\n",
      "episode: 2060, rewards: 0\n",
      "episode: 2080, rewards: 0.6399999999999999\n",
      "episode: 2100, rewards: 0.352\n",
      "episode: 2120, rewards: 0.31599999999999995\n",
      "episode: 2140, rewards: 0\n",
      "episode: 2160, rewards: 0.478\n",
      "episode: 2180, rewards: 0\n",
      "episode: 2200, rewards: 0.874\n",
      "episode: 2220, rewards: 0\n",
      "episode: 2240, rewards: 0\n",
      "episode: 2260, rewards: 0.802\n",
      "episode: 2280, rewards: 0.09999999999999998\n",
      "episode: 2300, rewards: 0.20799999999999996\n",
      "episode: 2320, rewards: 0\n",
      "episode: 2340, rewards: 0\n",
      "episode: 2360, rewards: 0\n",
      "episode: 2380, rewards: 0.6759999999999999\n",
      "episode: 2400, rewards: 0.712\n",
      "episode: 2420, rewards: 0\n",
      "episode: 2440, rewards: 0.82\n",
      "episode: 2460, rewards: 0.586\n",
      "episode: 2480, rewards: 0\n",
      "episode: 2500, rewards: 0.82\n",
      "episode: 2520, rewards: 0\n",
      "episode: 2540, rewards: 0.6579999999999999\n",
      "episode: 2560, rewards: 0.3879999999999999\n",
      "episode: 2580, rewards: 0\n",
      "episode: 2600, rewards: 0.29799999999999993\n",
      "episode: 2620, rewards: 0.20799999999999996\n",
      "episode: 2640, rewards: 0.3879999999999999\n",
      "episode: 2660, rewards: 0.6579999999999999\n",
      "episode: 2680, rewards: 0.4959999999999999\n",
      "episode: 2700, rewards: 0.604\n",
      "episode: 2720, rewards: 0\n",
      "episode: 2740, rewards: 0\n",
      "episode: 2760, rewards: 0.694\n",
      "episode: 2780, rewards: 0.802\n",
      "episode: 2800, rewards: 0.82\n",
      "episode: 2820, rewards: 0\n",
      "episode: 2840, rewards: 0\n",
      "episode: 2860, rewards: 0.604\n",
      "episode: 2880, rewards: 0.766\n",
      "episode: 2900, rewards: 0.712\n",
      "episode: 2920, rewards: 0.09999999999999998\n",
      "episode: 2940, rewards: 0.802\n",
      "episode: 2960, rewards: 0.802\n",
      "episode: 2980, rewards: 0.874\n",
      "episode: 3000, rewards: 0.262\n",
      "MoviePy - Building video /Users/hyeokk/hyeokk_ws/Reinforcement Learning/Reinforcement Learning Assignment/SARSA,Q-Learning/Sarsa&Q-learning/video/rl-video-episode-3000.mp4.\n",
      "MoviePy - Writing video /Users/hyeokk/hyeokk_ws/Reinforcement Learning/Reinforcement Learning Assignment/SARSA,Q-Learning/Sarsa&Q-learning/video/rl-video-episode-3000.mp4\n",
      "\n"
     ]
    },
    {
     "name": "stderr",
     "output_type": "stream",
     "text": [
      "                                                                                "
     ]
    },
    {
     "name": "stdout",
     "output_type": "stream",
     "text": [
      "MoviePy - Done !\n",
      "MoviePy - video ready /Users/hyeokk/hyeokk_ws/Reinforcement Learning/Reinforcement Learning Assignment/SARSA,Q-Learning/Sarsa&Q-learning/video/rl-video-episode-3000.mp4\n",
      "episode: 3020, rewards: 0.73\n",
      "episode: 3040, rewards: 0\n",
      "episode: 3060, rewards: 0.17199999999999993"
     ]
    },
    {
     "name": "stderr",
     "output_type": "stream",
     "text": []
    },
    {
     "name": "stdout",
     "output_type": "stream",
     "text": [
      "\n",
      "episode: 3080, rewards: 0.766\n",
      "episode: 3100, rewards: 0.20799999999999996\n",
      "episode: 3120, rewards: 0.31599999999999995\n",
      "episode: 3140, rewards: 0\n",
      "episode: 3160, rewards: 0\n",
      "episode: 3180, rewards: 0.604\n",
      "episode: 3200, rewards: 0\n",
      "episode: 3220, rewards: 0.856\n",
      "episode: 3240, rewards: 0.604\n",
      "episode: 3260, rewards: 0\n",
      "episode: 3280, rewards: 0\n",
      "episode: 3300, rewards: 0.31599999999999995\n",
      "episode: 3320, rewards: 0.22599999999999998\n",
      "episode: 3340, rewards: 0.55\n",
      "episode: 3360, rewards: 0\n",
      "episode: 3380, rewards: 0.5680000000000001\n",
      "episode: 3400, rewards: 0\n",
      "episode: 3420, rewards: 0.712\n",
      "episode: 3440, rewards: 0\n",
      "episode: 3460, rewards: 0.6759999999999999\n",
      "episode: 3480, rewards: 0\n",
      "episode: 3500, rewards: 0.5680000000000001\n",
      "episode: 3520, rewards: 0\n",
      "episode: 3540, rewards: 0\n",
      "episode: 3560, rewards: 0.352\n",
      "episode: 3580, rewards: 0\n",
      "episode: 3600, rewards: 0.18999999999999995\n",
      "episode: 3620, rewards: 0.856\n",
      "episode: 3640, rewards: 0\n",
      "episode: 3660, rewards: 0.712\n",
      "episode: 3680, rewards: 0.6399999999999999\n",
      "episode: 3700, rewards: 0.6579999999999999\n",
      "episode: 3720, rewards: 0.22599999999999998\n",
      "episode: 3740, rewards: 0.18999999999999995\n",
      "episode: 3760, rewards: 0.4059999999999999\n",
      "episode: 3780, rewards: 0.856\n",
      "episode: 3800, rewards: 0.73\n",
      "episode: 3820, rewards: 0\n",
      "episode: 3840, rewards: 0.838\n",
      "episode: 3860, rewards: 0\n",
      "episode: 3880, rewards: 0\n",
      "episode: 3900, rewards: 0\n",
      "episode: 3920, rewards: 0.856\n",
      "episode: 3940, rewards: 0.514\n",
      "episode: 3960, rewards: 0.82\n",
      "episode: 3980, rewards: 0.4959999999999999\n",
      "episode: 4000, rewards: 0.42399999999999993\n",
      "MoviePy - Building video /Users/hyeokk/hyeokk_ws/Reinforcement Learning/Reinforcement Learning Assignment/SARSA,Q-Learning/Sarsa&Q-learning/video/rl-video-episode-4000.mp4.\n",
      "MoviePy - Writing video /Users/hyeokk/hyeokk_ws/Reinforcement Learning/Reinforcement Learning Assignment/SARSA,Q-Learning/Sarsa&Q-learning/video/rl-video-episode-4000.mp4\n",
      "\n"
     ]
    },
    {
     "name": "stderr",
     "output_type": "stream",
     "text": [
      "                                                                                "
     ]
    },
    {
     "name": "stdout",
     "output_type": "stream",
     "text": [
      "MoviePy - Done !\n",
      "MoviePy - video ready /Users/hyeokk/hyeokk_ws/Reinforcement Learning/Reinforcement Learning Assignment/SARSA,Q-Learning/Sarsa&Q-learning/video/rl-video-episode-4000.mp4\n",
      "episode: 4020, rewards: 0.5680000000000001\n",
      "episode: 4040, rewards: 0\n"
     ]
    },
    {
     "name": "stderr",
     "output_type": "stream",
     "text": []
    },
    {
     "name": "stdout",
     "output_type": "stream",
     "text": [
      "episode: 4060, rewards: 0.42399999999999993\n",
      "episode: 4080, rewards: 0.20799999999999996\n",
      "episode: 4100, rewards: 0\n",
      "episode: 4120, rewards: 0\n",
      "episode: 4140, rewards: 0.712\n",
      "episode: 4160, rewards: 0\n",
      "episode: 4180, rewards: 0\n",
      "episode: 4200, rewards: 0\n",
      "episode: 4220, rewards: 0\n",
      "episode: 4240, rewards: 0.136\n",
      "episode: 4260, rewards: 0\n",
      "episode: 4280, rewards: 0\n",
      "episode: 4300, rewards: 0\n",
      "episode: 4320, rewards: 0.18999999999999995\n",
      "episode: 4340, rewards: 0.262\n",
      "episode: 4360, rewards: 0.29799999999999993\n",
      "episode: 4380, rewards: 0\n",
      "episode: 4400, rewards: 0.802\n",
      "episode: 4420, rewards: 0.784\n",
      "episode: 4440, rewards: 0.15400000000000003\n",
      "episode: 4460, rewards: 0.838\n",
      "episode: 4480, rewards: 0\n",
      "episode: 4500, rewards: 0\n",
      "episode: 4520, rewards: 0\n",
      "episode: 4540, rewards: 0.838\n",
      "episode: 4560, rewards: 0.766\n",
      "episode: 4580, rewards: 0\n",
      "episode: 4600, rewards: 0.874\n",
      "episode: 4620, rewards: 0\n",
      "episode: 4640, rewards: 0.45999999999999996\n",
      "episode: 4660, rewards: 0\n",
      "episode: 4680, rewards: 0\n",
      "episode: 4700, rewards: 0.5680000000000001\n",
      "episode: 4720, rewards: 0.15400000000000003\n",
      "episode: 4740, rewards: 0\n",
      "episode: 4760, rewards: 0\n",
      "episode: 4780, rewards: 0.874\n",
      "episode: 4800, rewards: 0\n",
      "episode: 4820, rewards: 0\n",
      "episode: 4840, rewards: 0.784\n",
      "episode: 4860, rewards: 0.44199999999999995\n",
      "episode: 4880, rewards: 0\n",
      "episode: 4900, rewards: 0\n",
      "episode: 4920, rewards: 0.748\n",
      "episode: 4940, rewards: 0.15400000000000003\n",
      "episode: 4960, rewards: 0.44199999999999995\n",
      "episode: 4980, rewards: 0.784\n",
      "episode: 5000, rewards: 0.18999999999999995\n",
      "MoviePy - Building video /Users/hyeokk/hyeokk_ws/Reinforcement Learning/Reinforcement Learning Assignment/SARSA,Q-Learning/Sarsa&Q-learning/video/rl-video-episode-5000.mp4.\n",
      "MoviePy - Writing video /Users/hyeokk/hyeokk_ws/Reinforcement Learning/Reinforcement Learning Assignment/SARSA,Q-Learning/Sarsa&Q-learning/video/rl-video-episode-5000.mp4\n",
      "\n"
     ]
    },
    {
     "name": "stderr",
     "output_type": "stream",
     "text": [
      "                                                                                "
     ]
    },
    {
     "name": "stdout",
     "output_type": "stream",
     "text": [
      "MoviePy - Done !\n",
      "MoviePy - video ready /Users/hyeokk/hyeokk_ws/Reinforcement Learning/Reinforcement Learning Assignment/SARSA,Q-Learning/Sarsa&Q-learning/video/rl-video-episode-5000.mp4\n",
      "episode: 5020, rewards: 0.33399999999999996\n"
     ]
    },
    {
     "name": "stderr",
     "output_type": "stream",
     "text": []
    },
    {
     "name": "stdout",
     "output_type": "stream",
     "text": [
      "episode: 5040, rewards: 0\n",
      "episode: 5060, rewards: 0.22599999999999998\n",
      "episode: 5080, rewards: 0.838\n",
      "episode: 5100, rewards: 0\n",
      "episode: 5120, rewards: 0.15400000000000003\n",
      "episode: 5140, rewards: 0.82\n",
      "episode: 5160, rewards: 0.136\n",
      "episode: 5180, rewards: 0.802\n",
      "episode: 5200, rewards: 0.6399999999999999\n",
      "episode: 5220, rewards: 0.4959999999999999\n",
      "episode: 5240, rewards: 0\n",
      "episode: 5260, rewards: 0.514\n",
      "episode: 5280, rewards: 0\n",
      "episode: 5300, rewards: 0.17199999999999993\n",
      "episode: 5320, rewards: 0\n",
      "episode: 5340, rewards: 0.262\n",
      "episode: 5360, rewards: 0.748\n",
      "episode: 5380, rewards: 0.29799999999999993\n",
      "episode: 5400, rewards: 0\n",
      "episode: 5420, rewards: 0.37\n",
      "episode: 5440, rewards: 0\n",
      "episode: 5460, rewards: 0\n",
      "episode: 5480, rewards: 0.4059999999999999\n",
      "episode: 5500, rewards: 0.45999999999999996\n",
      "episode: 5520, rewards: 0\n",
      "episode: 5540, rewards: 0.22599999999999998\n",
      "episode: 5560, rewards: 0\n",
      "episode: 5580, rewards: 0.44199999999999995\n",
      "episode: 5600, rewards: 0.244\n",
      "episode: 5620, rewards: 0.622\n",
      "episode: 5640, rewards: 0.82\n",
      "episode: 5660, rewards: 0.856\n",
      "episode: 5680, rewards: 0\n",
      "episode: 5700, rewards: 0\n",
      "episode: 5720, rewards: 0\n",
      "episode: 5740, rewards: 0\n",
      "episode: 5760, rewards: 0\n",
      "episode: 5780, rewards: 0\n",
      "episode: 5800, rewards: 0\n",
      "episode: 5820, rewards: 0.31599999999999995\n",
      "episode: 5840, rewards: 0\n",
      "episode: 5860, rewards: 0.856\n",
      "episode: 5880, rewards: 0.31599999999999995\n",
      "episode: 5900, rewards: 0.3879999999999999\n",
      "episode: 5920, rewards: 0.874\n",
      "episode: 5940, rewards: 0\n",
      "episode: 5960, rewards: 0.586\n",
      "episode: 5980, rewards: 0\n",
      "episode: 6000, rewards: 0\n",
      "MoviePy - Building video /Users/hyeokk/hyeokk_ws/Reinforcement Learning/Reinforcement Learning Assignment/SARSA,Q-Learning/Sarsa&Q-learning/video/rl-video-episode-6000.mp4.\n",
      "MoviePy - Writing video /Users/hyeokk/hyeokk_ws/Reinforcement Learning/Reinforcement Learning Assignment/SARSA,Q-Learning/Sarsa&Q-learning/video/rl-video-episode-6000.mp4\n",
      "\n"
     ]
    },
    {
     "name": "stderr",
     "output_type": "stream",
     "text": [
      "                                                                                "
     ]
    },
    {
     "name": "stdout",
     "output_type": "stream",
     "text": [
      "MoviePy - Done !\n",
      "MoviePy - video ready /Users/hyeokk/hyeokk_ws/Reinforcement Learning/Reinforcement Learning Assignment/SARSA,Q-Learning/Sarsa&Q-learning/video/rl-video-episode-6000.mp4\n",
      "episode: 6020, rewards: 0\n"
     ]
    },
    {
     "name": "stderr",
     "output_type": "stream",
     "text": []
    },
    {
     "name": "stdout",
     "output_type": "stream",
     "text": [
      "episode: 6040, rewards: 0\n",
      "episode: 6060, rewards: 0.262\n",
      "episode: 6080, rewards: 0.748\n",
      "episode: 6100, rewards: 0.82\n",
      "episode: 6120, rewards: 0.532\n",
      "episode: 6140, rewards: 0.532\n",
      "episode: 6160, rewards: 0.42399999999999993\n",
      "episode: 6180, rewards: 0\n",
      "episode: 6200, rewards: 0.622\n",
      "episode: 6220, rewards: 0\n",
      "episode: 6240, rewards: 0.6399999999999999\n",
      "episode: 6260, rewards: 0\n",
      "episode: 6280, rewards: 0.586\n",
      "episode: 6300, rewards: 0\n",
      "episode: 6320, rewards: 0.514\n",
      "episode: 6340, rewards: 0\n",
      "episode: 6360, rewards: 0.478\n",
      "episode: 6380, rewards: 0.478\n",
      "episode: 6400, rewards: 0\n",
      "episode: 6420, rewards: 0.352\n",
      "episode: 6440, rewards: 0.73\n",
      "episode: 6460, rewards: 0.532\n",
      "episode: 6480, rewards: 0\n",
      "episode: 6500, rewards: 0\n",
      "episode: 6520, rewards: 0\n",
      "episode: 6540, rewards: 0\n",
      "episode: 6560, rewards: 0.6579999999999999\n",
      "episode: 6580, rewards: 0\n",
      "episode: 6600, rewards: 0\n",
      "episode: 6620, rewards: 0.874\n",
      "episode: 6640, rewards: 0.802\n",
      "episode: 6660, rewards: 0\n",
      "episode: 6680, rewards: 0\n",
      "episode: 6700, rewards: 0.37\n",
      "episode: 6720, rewards: 0.622\n",
      "episode: 6740, rewards: 0.586\n",
      "episode: 6760, rewards: 0\n",
      "episode: 6780, rewards: 0\n",
      "episode: 6800, rewards: 0.604\n",
      "episode: 6820, rewards: 0\n",
      "episode: 6840, rewards: 0\n",
      "episode: 6860, rewards: 0.4059999999999999\n",
      "episode: 6880, rewards: 0.802\n",
      "episode: 6900, rewards: 0\n",
      "episode: 6920, rewards: 0.136\n",
      "episode: 6940, rewards: 0\n",
      "episode: 6960, rewards: 0.856\n",
      "episode: 6980, rewards: 0\n",
      "episode: 7000, rewards: 0.45999999999999996\n",
      "MoviePy - Building video /Users/hyeokk/hyeokk_ws/Reinforcement Learning/Reinforcement Learning Assignment/SARSA,Q-Learning/Sarsa&Q-learning/video/rl-video-episode-7000.mp4.\n",
      "MoviePy - Writing video /Users/hyeokk/hyeokk_ws/Reinforcement Learning/Reinforcement Learning Assignment/SARSA,Q-Learning/Sarsa&Q-learning/video/rl-video-episode-7000.mp4\n",
      "\n"
     ]
    },
    {
     "name": "stderr",
     "output_type": "stream",
     "text": [
      "                                                                                "
     ]
    },
    {
     "name": "stdout",
     "output_type": "stream",
     "text": [
      "MoviePy - Done !\n",
      "MoviePy - video ready /Users/hyeokk/hyeokk_ws/Reinforcement Learning/Reinforcement Learning Assignment/SARSA,Q-Learning/Sarsa&Q-learning/video/rl-video-episode-7000.mp4\n",
      "episode: 7020, rewards: 0.2799999999999999\n",
      "episode: 7040, rewards: 0\n"
     ]
    },
    {
     "name": "stderr",
     "output_type": "stream",
     "text": []
    },
    {
     "name": "stdout",
     "output_type": "stream",
     "text": [
      "episode: 7060, rewards: 0.82\n",
      "episode: 7080, rewards: 0.874\n",
      "episode: 7100, rewards: 0.33399999999999996\n",
      "episode: 7120, rewards: 0\n",
      "episode: 7140, rewards: 0.6759999999999999\n",
      "episode: 7160, rewards: 0\n",
      "episode: 7180, rewards: 0\n",
      "episode: 7200, rewards: 0.6399999999999999\n",
      "episode: 7220, rewards: 0.44199999999999995\n",
      "episode: 7240, rewards: 0.874\n",
      "episode: 7260, rewards: 0\n",
      "episode: 7280, rewards: 0.17199999999999993\n",
      "episode: 7300, rewards: 0\n",
      "episode: 7320, rewards: 0.118\n",
      "episode: 7340, rewards: 0\n",
      "episode: 7360, rewards: 0\n",
      "episode: 7380, rewards: 0\n",
      "episode: 7400, rewards: 0\n",
      "episode: 7420, rewards: 0\n",
      "episode: 7440, rewards: 0.802\n",
      "episode: 7460, rewards: 0.262\n",
      "episode: 7480, rewards: 0\n",
      "episode: 7500, rewards: 0\n",
      "episode: 7520, rewards: 0.712\n",
      "episode: 7540, rewards: 0\n",
      "episode: 7560, rewards: 0.532\n",
      "episode: 7580, rewards: 0.55\n",
      "episode: 7600, rewards: 0.37\n",
      "episode: 7620, rewards: 0.17199999999999993\n",
      "episode: 7640, rewards: 0.802\n",
      "episode: 7660, rewards: 0\n",
      "episode: 7680, rewards: 0\n",
      "episode: 7700, rewards: 0.33399999999999996\n",
      "episode: 7720, rewards: 0.838\n",
      "episode: 7740, rewards: 0\n",
      "episode: 7760, rewards: 0.6399999999999999\n",
      "episode: 7780, rewards: 0.2799999999999999\n",
      "episode: 7800, rewards: 0.712\n",
      "episode: 7820, rewards: 0\n",
      "episode: 7840, rewards: 0.18999999999999995\n",
      "episode: 7860, rewards: 0\n",
      "episode: 7880, rewards: 0\n",
      "episode: 7900, rewards: 0.6579999999999999\n",
      "episode: 7920, rewards: 0\n",
      "episode: 7940, rewards: 0\n",
      "episode: 7960, rewards: 0\n",
      "episode: 7980, rewards: 0\n",
      "episode: 8000, rewards: 0\n",
      "MoviePy - Building video /Users/hyeokk/hyeokk_ws/Reinforcement Learning/Reinforcement Learning Assignment/SARSA,Q-Learning/Sarsa&Q-learning/video/rl-video-episode-8000.mp4.\n",
      "MoviePy - Writing video /Users/hyeokk/hyeokk_ws/Reinforcement Learning/Reinforcement Learning Assignment/SARSA,Q-Learning/Sarsa&Q-learning/video/rl-video-episode-8000.mp4\n",
      "\n"
     ]
    },
    {
     "name": "stderr",
     "output_type": "stream",
     "text": [
      "                                                                                "
     ]
    },
    {
     "name": "stdout",
     "output_type": "stream",
     "text": [
      "MoviePy - Done !\n",
      "MoviePy - video ready /Users/hyeokk/hyeokk_ws/Reinforcement Learning/Reinforcement Learning Assignment/SARSA,Q-Learning/Sarsa&Q-learning/video/rl-video-episode-8000.mp4\n",
      "episode: 8020, rewards: 0\n",
      "episode: 8040, rewards: 0\n",
      "episode: 8060, rewards: 0.6579999999999999\n",
      "episode: 8080, rewards: 0\n",
      "episode: 8100, rewards: 0\n"
     ]
    },
    {
     "name": "stderr",
     "output_type": "stream",
     "text": []
    },
    {
     "name": "stdout",
     "output_type": "stream",
     "text": [
      "episode: 8120, rewards: 0\n",
      "episode: 8140, rewards: 0.17199999999999993\n",
      "episode: 8160, rewards: 0.6579999999999999\n",
      "episode: 8180, rewards: 0\n",
      "episode: 8200, rewards: 0\n",
      "episode: 8220, rewards: 0\n",
      "episode: 8240, rewards: 0.20799999999999996\n",
      "episode: 8260, rewards: 0\n",
      "episode: 8280, rewards: 0.22599999999999998\n",
      "episode: 8300, rewards: 0\n",
      "episode: 8320, rewards: 0.45999999999999996\n",
      "episode: 8340, rewards: 0.73\n",
      "episode: 8360, rewards: 0.55\n",
      "episode: 8380, rewards: 0.748\n",
      "episode: 8400, rewards: 0\n",
      "episode: 8420, rewards: 0.712\n",
      "episode: 8440, rewards: 0\n",
      "episode: 8460, rewards: 0.118\n",
      "episode: 8480, rewards: 0\n",
      "episode: 8500, rewards: 0.22599999999999998\n",
      "episode: 8520, rewards: 0\n",
      "episode: 8540, rewards: 0.766\n",
      "episode: 8560, rewards: 0.18999999999999995\n",
      "episode: 8580, rewards: 0.4059999999999999\n",
      "episode: 8600, rewards: 0.838\n",
      "episode: 8620, rewards: 0\n",
      "episode: 8640, rewards: 0\n",
      "episode: 8660, rewards: 0.766\n",
      "episode: 8680, rewards: 0.33399999999999996\n",
      "episode: 8700, rewards: 0.6759999999999999\n",
      "episode: 8720, rewards: 0\n",
      "episode: 8740, rewards: 0\n",
      "episode: 8760, rewards: 0.6579999999999999\n",
      "episode: 8780, rewards: 0.82\n",
      "episode: 8800, rewards: 0\n",
      "episode: 8820, rewards: 0\n",
      "episode: 8840, rewards: 0.514\n",
      "episode: 8860, rewards: 0.6759999999999999\n",
      "episode: 8880, rewards: 0\n",
      "episode: 8900, rewards: 0.37\n",
      "episode: 8920, rewards: 0.3879999999999999\n",
      "episode: 8940, rewards: 0\n",
      "episode: 8960, rewards: 0\n",
      "episode: 8980, rewards: 0\n",
      "episode: 9000, rewards: 0.604\n",
      "MoviePy - Building video /Users/hyeokk/hyeokk_ws/Reinforcement Learning/Reinforcement Learning Assignment/SARSA,Q-Learning/Sarsa&Q-learning/video/rl-video-episode-9000.mp4.\n",
      "MoviePy - Writing video /Users/hyeokk/hyeokk_ws/Reinforcement Learning/Reinforcement Learning Assignment/SARSA,Q-Learning/Sarsa&Q-learning/video/rl-video-episode-9000.mp4\n",
      "\n"
     ]
    },
    {
     "name": "stderr",
     "output_type": "stream",
     "text": [
      "                                                                                "
     ]
    },
    {
     "name": "stdout",
     "output_type": "stream",
     "text": [
      "MoviePy - Done !\n",
      "MoviePy - video ready /Users/hyeokk/hyeokk_ws/Reinforcement Learning/Reinforcement Learning Assignment/SARSA,Q-Learning/Sarsa&Q-learning/video/rl-video-episode-9000.mp4\n",
      "episode: 9020, rewards: 0\n",
      "episode: 9040, rewards: 0\n"
     ]
    },
    {
     "name": "stderr",
     "output_type": "stream",
     "text": []
    },
    {
     "name": "stdout",
     "output_type": "stream",
     "text": [
      "episode: 9060, rewards: 0.784\n",
      "episode: 9080, rewards: 0\n",
      "episode: 9100, rewards: 0.6759999999999999\n",
      "episode: 9120, rewards: 0.55\n",
      "episode: 9140, rewards: 0.748\n",
      "episode: 9160, rewards: 0.37\n",
      "episode: 9180, rewards: 0.31599999999999995\n",
      "episode: 9200, rewards: 0.586\n",
      "episode: 9220, rewards: 0.22599999999999998\n",
      "episode: 9240, rewards: 0.478\n",
      "episode: 9260, rewards: 0.784\n",
      "episode: 9280, rewards: 0.82\n",
      "episode: 9300, rewards: 0.6399999999999999\n",
      "episode: 9320, rewards: 0.09999999999999998\n",
      "episode: 9340, rewards: 0.802\n",
      "episode: 9360, rewards: 0.18999999999999995\n",
      "episode: 9380, rewards: 0\n",
      "episode: 9400, rewards: 0.6579999999999999\n",
      "episode: 9420, rewards: 0\n",
      "episode: 9440, rewards: 0.6579999999999999\n",
      "episode: 9460, rewards: 0\n",
      "episode: 9480, rewards: 0\n",
      "episode: 9500, rewards: 0\n",
      "episode: 9520, rewards: 0\n",
      "episode: 9540, rewards: 0.29799999999999993\n",
      "episode: 9560, rewards: 0\n",
      "episode: 9580, rewards: 0.712\n",
      "episode: 9600, rewards: 0\n",
      "episode: 9620, rewards: 0\n",
      "episode: 9640, rewards: 0.136\n",
      "episode: 9660, rewards: 0.42399999999999993\n",
      "episode: 9680, rewards: 0\n",
      "episode: 9700, rewards: 0\n",
      "episode: 9720, rewards: 0.694\n",
      "episode: 9740, rewards: 0\n",
      "episode: 9760, rewards: 0\n",
      "episode: 9780, rewards: 0\n",
      "episode: 9800, rewards: 0.5680000000000001\n",
      "episode: 9820, rewards: 0.352\n",
      "episode: 9840, rewards: 0.604\n",
      "episode: 9860, rewards: 0\n",
      "episode: 9880, rewards: 0.6579999999999999\n",
      "episode: 9900, rewards: 0.5680000000000001\n",
      "episode: 9920, rewards: 0\n",
      "episode: 9940, rewards: 0.73\n",
      "episode: 9960, rewards: 0.712\n",
      "episode: 9980, rewards: 0\n",
      "episode: 10000, rewards: 0.20799999999999996\n",
      "MoviePy - Building video /Users/hyeokk/hyeokk_ws/Reinforcement Learning/Reinforcement Learning Assignment/SARSA,Q-Learning/Sarsa&Q-learning/video/rl-video-episode-10000.mp4.\n",
      "MoviePy - Writing video /Users/hyeokk/hyeokk_ws/Reinforcement Learning/Reinforcement Learning Assignment/SARSA,Q-Learning/Sarsa&Q-learning/video/rl-video-episode-10000.mp4\n",
      "\n"
     ]
    },
    {
     "name": "stderr",
     "output_type": "stream",
     "text": [
      "                                                                                "
     ]
    },
    {
     "name": "stdout",
     "output_type": "stream",
     "text": [
      "MoviePy - Done !\n",
      "MoviePy - video ready /Users/hyeokk/hyeokk_ws/Reinforcement Learning/Reinforcement Learning Assignment/SARSA,Q-Learning/Sarsa&Q-learning/video/rl-video-episode-10000.mp4\n",
      "episode: 10020, rewards: 0.532\n",
      "episode: 10040, rewards: 0.44199999999999995\n"
     ]
    },
    {
     "name": "stderr",
     "output_type": "stream",
     "text": []
    },
    {
     "name": "stdout",
     "output_type": "stream",
     "text": [
      "episode: 10060, rewards: 0.82\n",
      "episode: 10080, rewards: 0.766\n",
      "episode: 10100, rewards: 0\n",
      "episode: 10120, rewards: 0.748\n",
      "episode: 10140, rewards: 0\n",
      "episode: 10160, rewards: 0.118\n",
      "episode: 10180, rewards: 0\n",
      "episode: 10200, rewards: 0\n",
      "episode: 10220, rewards: 0\n",
      "episode: 10240, rewards: 0.4059999999999999\n",
      "episode: 10260, rewards: 0\n",
      "episode: 10280, rewards: 0\n",
      "episode: 10300, rewards: 0.694\n",
      "episode: 10320, rewards: 0\n",
      "episode: 10340, rewards: 0.784\n",
      "episode: 10360, rewards: 0\n",
      "episode: 10380, rewards: 0\n",
      "episode: 10400, rewards: 0.766\n",
      "episode: 10420, rewards: 0.6399999999999999\n",
      "episode: 10440, rewards: 0.31599999999999995\n",
      "episode: 10460, rewards: 0.622\n",
      "episode: 10480, rewards: 0.4059999999999999\n",
      "episode: 10500, rewards: 0.856\n",
      "episode: 10520, rewards: 0.4959999999999999\n",
      "episode: 10540, rewards: 0.784\n",
      "episode: 10560, rewards: 0\n",
      "episode: 10580, rewards: 0.586\n",
      "episode: 10600, rewards: 0.838\n",
      "episode: 10620, rewards: 0\n",
      "episode: 10640, rewards: 0.09999999999999998\n",
      "episode: 10660, rewards: 0.82\n",
      "episode: 10680, rewards: 0\n",
      "episode: 10700, rewards: 0\n",
      "episode: 10720, rewards: 0.82\n",
      "episode: 10740, rewards: 0.262\n",
      "episode: 10760, rewards: 0.712\n",
      "episode: 10780, rewards: 0\n",
      "episode: 10800, rewards: 0\n",
      "episode: 10820, rewards: 0.15400000000000003\n",
      "episode: 10840, rewards: 0.622\n",
      "episode: 10860, rewards: 0.802\n",
      "episode: 10880, rewards: 0.2799999999999999\n",
      "episode: 10900, rewards: 0.5680000000000001\n",
      "episode: 10920, rewards: 0.15400000000000003\n",
      "episode: 10940, rewards: 0.73\n",
      "episode: 10960, rewards: 0.15400000000000003\n",
      "episode: 10980, rewards: 0.802\n",
      "episode: 11000, rewards: 0\n",
      "MoviePy - Building video /Users/hyeokk/hyeokk_ws/Reinforcement Learning/Reinforcement Learning Assignment/SARSA,Q-Learning/Sarsa&Q-learning/video/rl-video-episode-11000.mp4.\n",
      "MoviePy - Writing video /Users/hyeokk/hyeokk_ws/Reinforcement Learning/Reinforcement Learning Assignment/SARSA,Q-Learning/Sarsa&Q-learning/video/rl-video-episode-11000.mp4\n",
      "\n"
     ]
    },
    {
     "name": "stderr",
     "output_type": "stream",
     "text": [
      "                                                                                "
     ]
    },
    {
     "name": "stdout",
     "output_type": "stream",
     "text": [
      "MoviePy - Done !\n",
      "MoviePy - video ready /Users/hyeokk/hyeokk_ws/Reinforcement Learning/Reinforcement Learning Assignment/SARSA,Q-Learning/Sarsa&Q-learning/video/rl-video-episode-11000.mp4\n",
      "episode: 11020, rewards: 0.33399999999999996\n"
     ]
    },
    {
     "name": "stderr",
     "output_type": "stream",
     "text": []
    },
    {
     "name": "stdout",
     "output_type": "stream",
     "text": [
      "episode: 11040, rewards: 0.856\n",
      "episode: 11060, rewards: 0\n",
      "episode: 11080, rewards: 0.44199999999999995\n",
      "episode: 11100, rewards: 0\n",
      "episode: 11120, rewards: 0.478\n",
      "episode: 11140, rewards: 0.694\n",
      "episode: 11160, rewards: 0\n",
      "episode: 11180, rewards: 0.856\n",
      "episode: 11200, rewards: 0.694\n",
      "episode: 11220, rewards: 0\n",
      "episode: 11240, rewards: 0.838\n",
      "episode: 11260, rewards: 0.5680000000000001\n",
      "episode: 11280, rewards: 0.586\n",
      "episode: 11300, rewards: 0.478\n",
      "episode: 11320, rewards: 0\n",
      "episode: 11340, rewards: 0\n",
      "episode: 11360, rewards: 0\n",
      "episode: 11380, rewards: 0\n",
      "episode: 11400, rewards: 0.3879999999999999\n",
      "episode: 11420, rewards: 0\n",
      "episode: 11440, rewards: 0\n",
      "episode: 11460, rewards: 0.478\n",
      "episode: 11480, rewards: 0\n",
      "episode: 11500, rewards: 0\n",
      "episode: 11520, rewards: 0.478\n",
      "episode: 11540, rewards: 0\n",
      "episode: 11560, rewards: 0\n",
      "episode: 11580, rewards: 0.73\n",
      "episode: 11600, rewards: 0.09999999999999998\n",
      "episode: 11620, rewards: 0\n",
      "episode: 11640, rewards: 0.514\n",
      "episode: 11660, rewards: 0.262\n",
      "episode: 11680, rewards: 0.766\n",
      "episode: 11700, rewards: 0.766\n",
      "episode: 11720, rewards: 0.694\n",
      "episode: 11740, rewards: 0.37\n",
      "episode: 11760, rewards: 0\n",
      "episode: 11780, rewards: 0.5680000000000001\n",
      "episode: 11800, rewards: 0.478\n",
      "episode: 11820, rewards: 0.45999999999999996\n",
      "episode: 11840, rewards: 0.622\n",
      "episode: 11860, rewards: 0.73\n",
      "episode: 11880, rewards: 0.44199999999999995\n",
      "episode: 11900, rewards: 0.622\n",
      "episode: 11920, rewards: 0.2799999999999999\n",
      "episode: 11940, rewards: 0.838\n",
      "episode: 11960, rewards: 0.748\n",
      "episode: 11980, rewards: 0.514\n",
      "episode: 12000, rewards: 0.44199999999999995\n",
      "MoviePy - Building video /Users/hyeokk/hyeokk_ws/Reinforcement Learning/Reinforcement Learning Assignment/SARSA,Q-Learning/Sarsa&Q-learning/video/rl-video-episode-12000.mp4.\n",
      "MoviePy - Writing video /Users/hyeokk/hyeokk_ws/Reinforcement Learning/Reinforcement Learning Assignment/SARSA,Q-Learning/Sarsa&Q-learning/video/rl-video-episode-12000.mp4\n",
      "\n"
     ]
    },
    {
     "name": "stderr",
     "output_type": "stream",
     "text": [
      "                                                                                "
     ]
    },
    {
     "name": "stdout",
     "output_type": "stream",
     "text": [
      "MoviePy - Done !\n",
      "MoviePy - video ready /Users/hyeokk/hyeokk_ws/Reinforcement Learning/Reinforcement Learning Assignment/SARSA,Q-Learning/Sarsa&Q-learning/video/rl-video-episode-12000.mp4\n",
      "episode: 12020, rewards: 0.532\n",
      "episode: 12040, rewards: 0.712\n"
     ]
    },
    {
     "name": "stderr",
     "output_type": "stream",
     "text": []
    },
    {
     "name": "stdout",
     "output_type": "stream",
     "text": [
      "episode: 12060, rewards: 0\n",
      "episode: 12080, rewards: 0\n",
      "episode: 12100, rewards: 0\n",
      "episode: 12120, rewards: 0.874\n",
      "episode: 12140, rewards: 0.586\n",
      "episode: 12160, rewards: 0\n",
      "episode: 12180, rewards: 0.42399999999999993\n",
      "episode: 12200, rewards: 0.82\n",
      "episode: 12220, rewards: 0\n",
      "episode: 12240, rewards: 0.118\n",
      "episode: 12260, rewards: 0.586\n",
      "episode: 12280, rewards: 0.766\n",
      "episode: 12300, rewards: 0\n",
      "episode: 12320, rewards: 0.22599999999999998\n",
      "episode: 12340, rewards: 0.44199999999999995\n",
      "episode: 12360, rewards: 0\n",
      "episode: 12380, rewards: 0.784\n",
      "episode: 12400, rewards: 0.712\n",
      "episode: 12420, rewards: 0\n",
      "episode: 12440, rewards: 0\n",
      "episode: 12460, rewards: 0.6579999999999999\n",
      "episode: 12480, rewards: 0.856\n",
      "episode: 12500, rewards: 0.874\n",
      "episode: 12520, rewards: 0\n",
      "episode: 12540, rewards: 0.622\n",
      "episode: 12560, rewards: 0\n",
      "episode: 12580, rewards: 0.82\n",
      "episode: 12600, rewards: 0.82\n",
      "episode: 12620, rewards: 0.82\n",
      "episode: 12640, rewards: 0.352\n",
      "episode: 12660, rewards: 0.6399999999999999\n",
      "episode: 12680, rewards: 0.856\n",
      "episode: 12700, rewards: 0.514\n",
      "episode: 12720, rewards: 0.712\n",
      "episode: 12740, rewards: 0\n",
      "episode: 12760, rewards: 0.4959999999999999\n",
      "episode: 12780, rewards: 0\n",
      "episode: 12800, rewards: 0.514\n",
      "episode: 12820, rewards: 0.37\n",
      "episode: 12840, rewards: 0\n",
      "episode: 12860, rewards: 0\n",
      "episode: 12880, rewards: 0\n",
      "episode: 12900, rewards: 0\n",
      "episode: 12920, rewards: 0.244\n",
      "episode: 12940, rewards: 0.73\n",
      "episode: 12960, rewards: 0.31599999999999995\n",
      "episode: 12980, rewards: 0.838\n",
      "episode: 13000, rewards: 0.6399999999999999\n",
      "MoviePy - Building video /Users/hyeokk/hyeokk_ws/Reinforcement Learning/Reinforcement Learning Assignment/SARSA,Q-Learning/Sarsa&Q-learning/video/rl-video-episode-13000.mp4.\n",
      "MoviePy - Writing video /Users/hyeokk/hyeokk_ws/Reinforcement Learning/Reinforcement Learning Assignment/SARSA,Q-Learning/Sarsa&Q-learning/video/rl-video-episode-13000.mp4\n",
      "\n"
     ]
    },
    {
     "name": "stderr",
     "output_type": "stream",
     "text": [
      "                                                                                "
     ]
    },
    {
     "name": "stdout",
     "output_type": "stream",
     "text": [
      "MoviePy - Done !\n",
      "MoviePy - video ready /Users/hyeokk/hyeokk_ws/Reinforcement Learning/Reinforcement Learning Assignment/SARSA,Q-Learning/Sarsa&Q-learning/video/rl-video-episode-13000.mp4\n",
      "episode: 13020, rewards: 0\n",
      "episode: 13040, rewards: 0.514\n",
      "episode: 13060, rewards: 0.2799999999999999\n",
      "episode: 13080, rewards: 0\n"
     ]
    },
    {
     "name": "stderr",
     "output_type": "stream",
     "text": []
    },
    {
     "name": "stdout",
     "output_type": "stream",
     "text": [
      "episode: 13100, rewards: 0.802\n",
      "episode: 13120, rewards: 0.748\n",
      "episode: 13140, rewards: 0\n",
      "episode: 13160, rewards: 0.748\n",
      "episode: 13180, rewards: 0.42399999999999993\n",
      "episode: 13200, rewards: 0.3879999999999999\n",
      "episode: 13220, rewards: 0.802\n",
      "episode: 13240, rewards: 0\n",
      "episode: 13260, rewards: 0\n",
      "episode: 13280, rewards: 0.352\n",
      "episode: 13300, rewards: 0\n",
      "episode: 13320, rewards: 0.532\n",
      "episode: 13340, rewards: 0.37\n",
      "episode: 13360, rewards: 0\n",
      "episode: 13380, rewards: 0\n",
      "episode: 13400, rewards: 0.856\n",
      "episode: 13420, rewards: 0\n",
      "episode: 13440, rewards: 0\n",
      "episode: 13460, rewards: 0.31599999999999995\n",
      "episode: 13480, rewards: 0.856\n",
      "episode: 13500, rewards: 0.45999999999999996\n",
      "episode: 13520, rewards: 0.766\n",
      "episode: 13540, rewards: 0.82\n",
      "episode: 13560, rewards: 0.838\n",
      "episode: 13580, rewards: 0.33399999999999996\n",
      "episode: 13600, rewards: 0\n",
      "episode: 13620, rewards: 0.3879999999999999\n",
      "episode: 13640, rewards: 0.33399999999999996\n",
      "episode: 13660, rewards: 0.44199999999999995\n",
      "episode: 13680, rewards: 0.244\n",
      "episode: 13700, rewards: 0\n",
      "episode: 13720, rewards: 0\n",
      "episode: 13740, rewards: 0.2799999999999999\n",
      "episode: 13760, rewards: 0.42399999999999993\n",
      "episode: 13780, rewards: 0.748\n",
      "episode: 13800, rewards: 0\n",
      "episode: 13820, rewards: 0.262\n",
      "episode: 13840, rewards: 0.478\n",
      "episode: 13860, rewards: 0.352\n",
      "episode: 13880, rewards: 0.532\n",
      "episode: 13900, rewards: 0\n",
      "episode: 13920, rewards: 0.262\n",
      "episode: 13940, rewards: 0.262\n",
      "episode: 13960, rewards: 0.31599999999999995\n",
      "episode: 13980, rewards: 0.838\n",
      "episode: 14000, rewards: 0\n",
      "MoviePy - Building video /Users/hyeokk/hyeokk_ws/Reinforcement Learning/Reinforcement Learning Assignment/SARSA,Q-Learning/Sarsa&Q-learning/video/rl-video-episode-14000.mp4.\n",
      "MoviePy - Writing video /Users/hyeokk/hyeokk_ws/Reinforcement Learning/Reinforcement Learning Assignment/SARSA,Q-Learning/Sarsa&Q-learning/video/rl-video-episode-14000.mp4\n",
      "\n"
     ]
    },
    {
     "name": "stderr",
     "output_type": "stream",
     "text": [
      "                                                                                "
     ]
    },
    {
     "name": "stdout",
     "output_type": "stream",
     "text": [
      "MoviePy - Done !\n",
      "MoviePy - video ready /Users/hyeokk/hyeokk_ws/Reinforcement Learning/Reinforcement Learning Assignment/SARSA,Q-Learning/Sarsa&Q-learning/video/rl-video-episode-14000.mp4\n"
     ]
    },
    {
     "name": "stderr",
     "output_type": "stream",
     "text": []
    },
    {
     "name": "stdout",
     "output_type": "stream",
     "text": [
      "episode: 14020, rewards: 0.784\n",
      "episode: 14040, rewards: 0\n",
      "episode: 14060, rewards: 0.22599999999999998\n",
      "episode: 14080, rewards: 0.82\n",
      "episode: 14100, rewards: 0.694\n",
      "episode: 14120, rewards: 0\n",
      "episode: 14140, rewards: 0\n",
      "episode: 14160, rewards: 0\n",
      "episode: 14180, rewards: 0\n",
      "episode: 14200, rewards: 0.4059999999999999\n",
      "episode: 14220, rewards: 0.604\n",
      "episode: 14240, rewards: 0.44199999999999995\n",
      "episode: 14260, rewards: 0.09999999999999998\n",
      "episode: 14280, rewards: 0\n",
      "episode: 14300, rewards: 0\n",
      "episode: 14320, rewards: 0.352\n",
      "episode: 14340, rewards: 0.784\n",
      "episode: 14360, rewards: 0\n",
      "episode: 14380, rewards: 0.694\n",
      "episode: 14400, rewards: 0.838\n",
      "episode: 14420, rewards: 0\n",
      "episode: 14440, rewards: 0\n",
      "episode: 14460, rewards: 0.31599999999999995\n",
      "episode: 14480, rewards: 0.532\n",
      "episode: 14500, rewards: 0\n",
      "episode: 14520, rewards: 0.694\n",
      "episode: 14540, rewards: 0.874\n",
      "episode: 14560, rewards: 0.42399999999999993\n",
      "episode: 14580, rewards: 0.712\n",
      "episode: 14600, rewards: 0.802\n",
      "episode: 14620, rewards: 0.874\n",
      "episode: 14640, rewards: 0.856\n",
      "episode: 14660, rewards: 0.622\n",
      "episode: 14680, rewards: 0.712\n",
      "episode: 14700, rewards: 0.6759999999999999\n",
      "episode: 14720, rewards: 0.586\n",
      "episode: 14740, rewards: 0\n",
      "episode: 14760, rewards: 0.73\n",
      "episode: 14780, rewards: 0.766\n",
      "episode: 14800, rewards: 0.784\n",
      "episode: 14820, rewards: 0\n",
      "episode: 14840, rewards: 0.694\n",
      "episode: 14860, rewards: 0\n",
      "episode: 14880, rewards: 0.856\n",
      "episode: 14900, rewards: 0.6579999999999999\n",
      "episode: 14920, rewards: 0.532\n",
      "episode: 14940, rewards: 0\n",
      "episode: 14960, rewards: 0.874\n",
      "episode: 14980, rewards: 0\n",
      "episode: 15000, rewards: 0\n",
      "MoviePy - Building video /Users/hyeokk/hyeokk_ws/Reinforcement Learning/Reinforcement Learning Assignment/SARSA,Q-Learning/Sarsa&Q-learning/video/rl-video-episode-15000.mp4.\n",
      "MoviePy - Writing video /Users/hyeokk/hyeokk_ws/Reinforcement Learning/Reinforcement Learning Assignment/SARSA,Q-Learning/Sarsa&Q-learning/video/rl-video-episode-15000.mp4\n",
      "\n"
     ]
    },
    {
     "name": "stderr",
     "output_type": "stream",
     "text": [
      "                                                                                "
     ]
    },
    {
     "name": "stdout",
     "output_type": "stream",
     "text": [
      "MoviePy - Done !\n",
      "MoviePy - video ready /Users/hyeokk/hyeokk_ws/Reinforcement Learning/Reinforcement Learning Assignment/SARSA,Q-Learning/Sarsa&Q-learning/video/rl-video-episode-15000.mp4\n",
      "episode: 15020, rewards: 0\n",
      "episode: 15040, rewards: 0\n"
     ]
    },
    {
     "name": "stderr",
     "output_type": "stream",
     "text": []
    },
    {
     "name": "stdout",
     "output_type": "stream",
     "text": [
      "episode: 15060, rewards: 0.6759999999999999\n",
      "episode: 15080, rewards: 0.136\n",
      "episode: 15100, rewards: 0\n",
      "episode: 15120, rewards: 0.73\n",
      "episode: 15140, rewards: 0.694\n",
      "episode: 15160, rewards: 0\n",
      "episode: 15180, rewards: 0.622\n",
      "episode: 15200, rewards: 0.622\n",
      "episode: 15220, rewards: 0.784\n",
      "episode: 15240, rewards: 0\n",
      "episode: 15260, rewards: 0\n",
      "episode: 15280, rewards: 0\n",
      "episode: 15300, rewards: 0.15400000000000003\n",
      "episode: 15320, rewards: 0.784\n",
      "episode: 15340, rewards: 0\n",
      "episode: 15360, rewards: 0.82\n",
      "episode: 15380, rewards: 0.766\n",
      "episode: 15400, rewards: 0\n",
      "episode: 15420, rewards: 0\n",
      "episode: 15440, rewards: 0\n",
      "episode: 15460, rewards: 0\n",
      "episode: 15480, rewards: 0\n",
      "episode: 15500, rewards: 0\n",
      "episode: 15520, rewards: 0.874\n",
      "episode: 15540, rewards: 0.82\n",
      "episode: 15560, rewards: 0\n",
      "episode: 15580, rewards: 0.4059999999999999\n",
      "episode: 15600, rewards: 0.82\n",
      "episode: 15620, rewards: 0\n",
      "episode: 15640, rewards: 0\n",
      "episode: 15660, rewards: 0\n",
      "episode: 15680, rewards: 0\n",
      "episode: 15700, rewards: 0.37\n",
      "episode: 15720, rewards: 0\n",
      "episode: 15740, rewards: 0\n",
      "episode: 15760, rewards: 0\n",
      "episode: 15780, rewards: 0.118\n",
      "episode: 15800, rewards: 0.586\n",
      "episode: 15820, rewards: 0.22599999999999998\n",
      "episode: 15840, rewards: 0.244\n",
      "episode: 15860, rewards: 0\n",
      "episode: 15880, rewards: 0.55\n",
      "episode: 15900, rewards: 0.82\n",
      "episode: 15920, rewards: 0\n",
      "episode: 15940, rewards: 0.2799999999999999\n",
      "episode: 15960, rewards: 0\n",
      "episode: 15980, rewards: 0.6399999999999999\n",
      "episode: 16000, rewards: 0\n",
      "MoviePy - Building video /Users/hyeokk/hyeokk_ws/Reinforcement Learning/Reinforcement Learning Assignment/SARSA,Q-Learning/Sarsa&Q-learning/video/rl-video-episode-16000.mp4.\n",
      "MoviePy - Writing video /Users/hyeokk/hyeokk_ws/Reinforcement Learning/Reinforcement Learning Assignment/SARSA,Q-Learning/Sarsa&Q-learning/video/rl-video-episode-16000.mp4\n",
      "\n"
     ]
    },
    {
     "name": "stderr",
     "output_type": "stream",
     "text": [
      "                                                                                "
     ]
    },
    {
     "name": "stdout",
     "output_type": "stream",
     "text": [
      "MoviePy - Done !\n",
      "MoviePy - video ready /Users/hyeokk/hyeokk_ws/Reinforcement Learning/Reinforcement Learning Assignment/SARSA,Q-Learning/Sarsa&Q-learning/video/rl-video-episode-16000.mp4\n",
      "episode: 16020, rewards: 0.55\n",
      "episode: 16040, rewards: 0\n"
     ]
    },
    {
     "name": "stderr",
     "output_type": "stream",
     "text": []
    },
    {
     "name": "stdout",
     "output_type": "stream",
     "text": [
      "episode: 16060, rewards: 0\n",
      "episode: 16080, rewards: 0.586\n",
      "episode: 16100, rewards: 0.82\n",
      "episode: 16120, rewards: 0.802\n",
      "episode: 16140, rewards: 0.118\n",
      "episode: 16160, rewards: 0.5680000000000001\n",
      "episode: 16180, rewards: 0.4959999999999999\n",
      "episode: 16200, rewards: 0\n",
      "episode: 16220, rewards: 0.37\n",
      "episode: 16240, rewards: 0.6759999999999999\n",
      "episode: 16260, rewards: 0.748\n",
      "episode: 16280, rewards: 0.6579999999999999\n",
      "episode: 16300, rewards: 0.6579999999999999\n",
      "episode: 16320, rewards: 0.838\n",
      "episode: 16340, rewards: 0\n",
      "episode: 16360, rewards: 0\n",
      "episode: 16380, rewards: 0\n",
      "episode: 16400, rewards: 0.6579999999999999\n",
      "episode: 16420, rewards: 0\n",
      "episode: 16440, rewards: 0.3879999999999999\n",
      "episode: 16460, rewards: 0\n",
      "episode: 16480, rewards: 0.748\n",
      "episode: 16500, rewards: 0.712\n",
      "episode: 16520, rewards: 0.766\n",
      "episode: 16540, rewards: 0\n",
      "episode: 16560, rewards: 0\n",
      "episode: 16580, rewards: 0\n",
      "episode: 16600, rewards: 0.514\n",
      "episode: 16620, rewards: 0.802\n",
      "episode: 16640, rewards: 0.55\n",
      "episode: 16660, rewards: 0.44199999999999995\n",
      "episode: 16680, rewards: 0\n",
      "episode: 16700, rewards: 0.45999999999999996\n",
      "episode: 16720, rewards: 0.73\n",
      "episode: 16740, rewards: 0.37\n",
      "episode: 16760, rewards: 0.6759999999999999\n",
      "episode: 16780, rewards: 0.09999999999999998\n",
      "episode: 16800, rewards: 0.37\n",
      "episode: 16820, rewards: 0\n",
      "episode: 16840, rewards: 0.17199999999999993\n",
      "episode: 16860, rewards: 0\n",
      "episode: 16880, rewards: 0\n",
      "episode: 16900, rewards: 0\n",
      "episode: 16920, rewards: 0.784\n",
      "episode: 16940, rewards: 0.856\n",
      "episode: 16960, rewards: 0.694\n",
      "episode: 16980, rewards: 0\n",
      "episode: 17000, rewards: 0.244\n",
      "MoviePy - Building video /Users/hyeokk/hyeokk_ws/Reinforcement Learning/Reinforcement Learning Assignment/SARSA,Q-Learning/Sarsa&Q-learning/video/rl-video-episode-17000.mp4.\n",
      "MoviePy - Writing video /Users/hyeokk/hyeokk_ws/Reinforcement Learning/Reinforcement Learning Assignment/SARSA,Q-Learning/Sarsa&Q-learning/video/rl-video-episode-17000.mp4\n",
      "\n"
     ]
    },
    {
     "name": "stderr",
     "output_type": "stream",
     "text": [
      "                                                                                "
     ]
    },
    {
     "name": "stdout",
     "output_type": "stream",
     "text": [
      "MoviePy - Done !\n",
      "MoviePy - video ready /Users/hyeokk/hyeokk_ws/Reinforcement Learning/Reinforcement Learning Assignment/SARSA,Q-Learning/Sarsa&Q-learning/video/rl-video-episode-17000.mp4\n",
      "episode: 17020, rewards: 0\n"
     ]
    },
    {
     "name": "stderr",
     "output_type": "stream",
     "text": []
    },
    {
     "name": "stdout",
     "output_type": "stream",
     "text": [
      "episode: 17040, rewards: 0.4059999999999999\n",
      "episode: 17060, rewards: 0\n",
      "episode: 17080, rewards: 0.766\n",
      "episode: 17100, rewards: 0.622\n",
      "episode: 17120, rewards: 0\n",
      "episode: 17140, rewards: 0.22599999999999998\n",
      "episode: 17160, rewards: 0.262\n",
      "episode: 17180, rewards: 0.17199999999999993\n",
      "episode: 17200, rewards: 0.6399999999999999\n",
      "episode: 17220, rewards: 0.838\n",
      "episode: 17240, rewards: 0\n",
      "episode: 17260, rewards: 0\n",
      "episode: 17280, rewards: 0.73\n",
      "episode: 17300, rewards: 0\n",
      "episode: 17320, rewards: 0.838\n",
      "episode: 17340, rewards: 0.55\n",
      "episode: 17360, rewards: 0.784\n",
      "episode: 17380, rewards: 0.73\n",
      "episode: 17400, rewards: 0.45999999999999996\n",
      "episode: 17420, rewards: 0\n",
      "episode: 17440, rewards: 0.82\n",
      "episode: 17460, rewards: 0.586\n",
      "episode: 17480, rewards: 0.856\n",
      "episode: 17500, rewards: 0\n",
      "episode: 17520, rewards: 0\n",
      "episode: 17540, rewards: 0.244\n",
      "episode: 17560, rewards: 0.874\n",
      "episode: 17580, rewards: 0\n",
      "episode: 17600, rewards: 0.31599999999999995\n",
      "episode: 17620, rewards: 0\n",
      "episode: 17640, rewards: 0.6579999999999999\n",
      "episode: 17660, rewards: 0.18999999999999995\n",
      "episode: 17680, rewards: 0.604\n",
      "episode: 17700, rewards: 0\n",
      "episode: 17720, rewards: 0\n",
      "episode: 17740, rewards: 0\n",
      "episode: 17760, rewards: 0.82\n",
      "episode: 17780, rewards: 0.694\n",
      "episode: 17800, rewards: 0\n",
      "episode: 17820, rewards: 0.37\n",
      "episode: 17840, rewards: 0.802\n",
      "episode: 17860, rewards: 0\n",
      "episode: 17880, rewards: 0\n",
      "episode: 17900, rewards: 0\n",
      "episode: 17920, rewards: 0.838\n",
      "episode: 17940, rewards: 0\n",
      "episode: 17960, rewards: 0.33399999999999996\n",
      "episode: 17980, rewards: 0.766\n",
      "episode: 18000, rewards: 0\n",
      "MoviePy - Building video /Users/hyeokk/hyeokk_ws/Reinforcement Learning/Reinforcement Learning Assignment/SARSA,Q-Learning/Sarsa&Q-learning/video/rl-video-episode-18000.mp4.\n",
      "MoviePy - Writing video /Users/hyeokk/hyeokk_ws/Reinforcement Learning/Reinforcement Learning Assignment/SARSA,Q-Learning/Sarsa&Q-learning/video/rl-video-episode-18000.mp4\n",
      "\n"
     ]
    },
    {
     "name": "stderr",
     "output_type": "stream",
     "text": [
      "                                                                                "
     ]
    },
    {
     "name": "stdout",
     "output_type": "stream",
     "text": [
      "MoviePy - Done !\n",
      "MoviePy - video ready /Users/hyeokk/hyeokk_ws/Reinforcement Learning/Reinforcement Learning Assignment/SARSA,Q-Learning/Sarsa&Q-learning/video/rl-video-episode-18000.mp4\n",
      "episode: 18020, rewards: 0.514\n",
      "episode: 18040, rewards: 0.478\n"
     ]
    },
    {
     "name": "stderr",
     "output_type": "stream",
     "text": []
    },
    {
     "name": "stdout",
     "output_type": "stream",
     "text": [
      "episode: 18060, rewards: 0.712\n",
      "episode: 18080, rewards: 0.838\n",
      "episode: 18100, rewards: 0.262\n",
      "episode: 18120, rewards: 0.478\n",
      "episode: 18140, rewards: 0\n",
      "episode: 18160, rewards: 0.856\n",
      "episode: 18180, rewards: 0.29799999999999993\n",
      "episode: 18200, rewards: 0\n",
      "episode: 18220, rewards: 0\n",
      "episode: 18240, rewards: 0\n",
      "episode: 18260, rewards: 0.33399999999999996\n",
      "episode: 18280, rewards: 0.874\n",
      "episode: 18300, rewards: 0\n",
      "episode: 18320, rewards: 0\n",
      "episode: 18340, rewards: 0.29799999999999993\n",
      "episode: 18360, rewards: 0.838\n",
      "episode: 18380, rewards: 0\n",
      "episode: 18400, rewards: 0\n",
      "episode: 18420, rewards: 0.586\n",
      "episode: 18440, rewards: 0.6399999999999999\n",
      "episode: 18460, rewards: 0.766\n",
      "episode: 18480, rewards: 0.784\n",
      "episode: 18500, rewards: 0\n",
      "episode: 18520, rewards: 0\n",
      "episode: 18540, rewards: 0\n",
      "episode: 18560, rewards: 0.31599999999999995\n",
      "episode: 18580, rewards: 0.15400000000000003\n",
      "episode: 18600, rewards: 0\n",
      "episode: 18620, rewards: 0.22599999999999998\n",
      "episode: 18640, rewards: 0\n",
      "episode: 18660, rewards: 0.82\n",
      "episode: 18680, rewards: 0.42399999999999993\n",
      "episode: 18700, rewards: 0\n",
      "episode: 18720, rewards: 0\n",
      "episode: 18740, rewards: 0.838\n",
      "episode: 18760, rewards: 0.586\n",
      "episode: 18780, rewards: 0.6399999999999999\n",
      "episode: 18800, rewards: 0\n",
      "episode: 18820, rewards: 0.33399999999999996\n",
      "episode: 18840, rewards: 0.802\n",
      "episode: 18860, rewards: 0.352\n",
      "episode: 18880, rewards: 0\n",
      "episode: 18900, rewards: 0.82\n",
      "episode: 18920, rewards: 0\n",
      "episode: 18940, rewards: 0.29799999999999993\n",
      "episode: 18960, rewards: 0.856\n",
      "episode: 18980, rewards: 0\n",
      "episode: 19000, rewards: 0.838\n",
      "MoviePy - Building video /Users/hyeokk/hyeokk_ws/Reinforcement Learning/Reinforcement Learning Assignment/SARSA,Q-Learning/Sarsa&Q-learning/video/rl-video-episode-19000.mp4.\n",
      "MoviePy - Writing video /Users/hyeokk/hyeokk_ws/Reinforcement Learning/Reinforcement Learning Assignment/SARSA,Q-Learning/Sarsa&Q-learning/video/rl-video-episode-19000.mp4\n",
      "\n"
     ]
    },
    {
     "name": "stderr",
     "output_type": "stream",
     "text": [
      "                                                                                "
     ]
    },
    {
     "name": "stdout",
     "output_type": "stream",
     "text": [
      "MoviePy - Done !\n",
      "MoviePy - video ready /Users/hyeokk/hyeokk_ws/Reinforcement Learning/Reinforcement Learning Assignment/SARSA,Q-Learning/Sarsa&Q-learning/video/rl-video-episode-19000.mp4\n",
      "episode: 19020, rewards: 0\n",
      "episode: 19040, rewards: 0.29799999999999993\n",
      "episode: 19060, rewards: 0.802\n",
      "episode: 19080, rewards: 0\n",
      "episode: 19100, rewards: 0.3879999999999999\n",
      "episode: 19120, rewards: 0\n",
      "episode: 19140, rewards: 0\n",
      "episode: 19160, rewards: 0\n",
      "episode: 19180, rewards: 0\n",
      "episode: 19200, rewards: 0\n",
      "episode: 19220, rewards: 0\n",
      "episode: 19240, rewards: 0.17199999999999993\n",
      "episode: 19260, rewards: 0.42399999999999993\n",
      "episode: 19280, rewards: 0.838\n",
      "episode: 19300, rewards: 0\n",
      "episode: 19320, rewards: 0.856\n",
      "episode: 19340, rewards: 0\n",
      "episode: 19360, rewards: 0.31599999999999995\n",
      "episode: 19380, rewards: 0.6399999999999999\n",
      "episode: 19400, rewards: 0\n",
      "episode: 19420, rewards: 0.6759999999999999\n",
      "episode: 19440, rewards: 0\n",
      "episode: 19460, rewards: 0.856\n",
      "episode: 19480, rewards: 0.838\n",
      "episode: 19500, rewards: 0\n",
      "episode: 19520, rewards: 0.766\n",
      "episode: 19540, rewards: 0\n",
      "episode: 19560, rewards: 0\n",
      "episode: 19580, rewards: 0\n",
      "episode: 19600, rewards: 0\n",
      "episode: 19620, rewards: 0.514\n",
      "episode: 19640, rewards: 0.748\n",
      "episode: 19660, rewards: 0.514\n",
      "episode: 19680, rewards: 0\n",
      "episode: 19700, rewards: 0.856\n",
      "episode: 19720, rewards: 0.802\n",
      "episode: 19740, rewards: 0\n",
      "episode: 19760, rewards: 0\n",
      "episode: 19780, rewards: 0.82\n",
      "episode: 19800, rewards: 0.15400000000000003\n",
      "episode: 19820, rewards: 0\n",
      "episode: 19840, rewards: 0.6399999999999999\n",
      "episode: 19860, rewards: 0\n",
      "episode: 19880, rewards: 0\n",
      "episode: 19900, rewards: 0\n",
      "episode: 19920, rewards: 0.712\n",
      "episode: 19940, rewards: 0\n",
      "episode: 19960, rewards: 0\n",
      "episode: 19980, rewards: 0\n",
      "episode: 20000, rewards: 0.22599999999999998\n",
      "MoviePy - Building video /Users/hyeokk/hyeokk_ws/Reinforcement Learning/Reinforcement Learning Assignment/SARSA,Q-Learning/Sarsa&Q-learning/video/rl-video-episode-20000.mp4.\n",
      "MoviePy - Writing video /Users/hyeokk/hyeokk_ws/Reinforcement Learning/Reinforcement Learning Assignment/SARSA,Q-Learning/Sarsa&Q-learning/video/rl-video-episode-20000.mp4\n",
      "\n"
     ]
    },
    {
     "name": "stderr",
     "output_type": "stream",
     "text": [
      "                                                                                "
     ]
    },
    {
     "name": "stdout",
     "output_type": "stream",
     "text": [
      "MoviePy - Done !\n",
      "MoviePy - video ready /Users/hyeokk/hyeokk_ws/Reinforcement Learning/Reinforcement Learning Assignment/SARSA,Q-Learning/Sarsa&Q-learning/video/rl-video-episode-20000.mp4\n"
     ]
    },
    {
     "name": "stderr",
     "output_type": "stream",
     "text": []
    }
   ],
   "source": [
    "rewards = []\n",
    "clear_video_folder('./video')\n",
    "for ep in range(20000):\n",
    "    done = False\n",
    "    obs, info = env.reset()\n",
    "    action = agent.act(obs)\n",
    "    \n",
    "    ep_rewards = 0\n",
    "    \n",
    "    while not done:\n",
    "        next_obs, reward, terminated, truncated, info = env.step(action)\n",
    "        done = terminated or truncated\n",
    "        next_action = agent.act(next_obs)\n",
    "\n",
    "        agent.update(obs, action, reward, next_obs, next_action)\n",
    "        \n",
    "        ep_rewards += reward\n",
    "        obs = next_obs\n",
    "        action = next_action\n",
    "        \n",
    "    rewards.append(ep_rewards)\n",
    "    \n",
    "    if (ep+1) % 20 == 0:\n",
    "        print(\"episode: {}, rewards: {}\".format(ep+1, ep_rewards))\n",
    "\n",
    "     \n",
    "env.close()"
   ]
  },
  {
   "cell_type": "code",
   "execution_count": 6,
   "id": "a086e2cd",
   "metadata": {},
   "outputs": [
    {
     "data": {
      "text/plain": [
       "{np.int64(0): [0.0, 0.0, 0.0],\n",
       " np.int64(12): [0.0, 0.0, 0.0],\n",
       " np.int64(24): [0.0, 0.0, 0.0],\n",
       " np.int64(36): [1e-05, 1e-05, 7e-05],\n",
       " np.int64(15): [0.0, 0.0, 2e-05],\n",
       " np.int64(18): [2e-05, 2e-05, 0.00032],\n",
       " np.int64(3): [0.0, 0.0, 0.0],\n",
       " np.int64(6): [0.0, 0.0, 0.0],\n",
       " np.int64(27): [5e-05, 5e-05, 0.00061],\n",
       " np.int64(39): [0.001, 0.00097, 0.01011],\n",
       " np.int64(21): [0.00029, 0.00026, 0.00243],\n",
       " np.int64(9): [0.0, 0.0, 1e-05],\n",
       " np.int64(30): [0.00084, 0.00087, 0.01164],\n",
       " np.int64(33): [0.01247, 0.01202, 0.12726],\n",
       " np.int64(45): [0.0, 0.0, 0.0],\n",
       " np.int64(42): [0.02418, 0.02576, 0.30244]}"
      ]
     },
     "execution_count": 6,
     "metadata": {},
     "output_type": "execute_result"
    }
   ],
   "source": [
    "{s:np.round(q, 5).tolist() for s, q in agent.q_values.items()}"
   ]
  },
  {
   "cell_type": "code",
   "execution_count": 7,
   "id": "77e3015b",
   "metadata": {},
   "outputs": [
    {
     "data": {
      "text/html": [
       "<video alt=\"test\" autoplay \n",
       "                loop controls style=\"height: 400px;\">\n",
       "                <source src=\"data:video/mp4;base64,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\" type=\"video/mp4\" />\n",
       "             </video>"
      ],
      "text/plain": [
       "<IPython.core.display.HTML object>"
      ]
     },
     "metadata": {},
     "output_type": "display_data"
    }
   ],
   "source": [
    "show_video()"
   ]
  },
  {
   "cell_type": "code",
   "execution_count": 8,
   "id": "02b2a306-2bad-45c5-8729-5a7608c7937e",
   "metadata": {},
   "outputs": [],
   "source": [
    "from utils_plot import save_rewards_log, plot_avgreward, compare_algorithms, plot_q_value_distribution"
   ]
  },
  {
   "cell_type": "code",
   "execution_count": 9,
   "id": "42787cff",
   "metadata": {},
   "outputs": [
    {
     "name": "stdout",
     "output_type": "stream",
     "text": [
      "Saved to: ./logs/sarsa_rewards_gamma_0_10.csv\n"
     ]
    },
    {
     "data": {
      "image/png": "[encoded data removed]",
      "text/plain": [
       "<Figure size 1000x500 with 1 Axes>"
      ]
     },
     "metadata": {},
     "output_type": "display_data"
    }
   ],
   "source": [
    "save_rewards_log(rewards, variable_name=\"gamma\", agent=agent)\n",
    "plot_q_value_distribution(agent)"
   ]
  },
  {
   "cell_type": "code",
   "execution_count": 10,
   "id": "43dc92ab",
   "metadata": {},
   "outputs": [
    {
     "data": {
      "image/png": "[encoded data removed]",
      "text/plain": [
       "<Figure size 1200x600 with 1 Axes>"
      ]
     },
     "metadata": {},
     "output_type": "display_data"
    },
    {
     "name": "stdout",
     "output_type": "stream",
     "text": [
      "File not found: ./logs/qlearning_rewards_gamma_0_10.csv\n"
     ]
    },
    {
     "data": {
      "image/png": "[encoded data removed]",
      "text/plain": [
       "<Figure size 1200x600 with 1 Axes>"
      ]
     },
     "metadata": {},
     "output_type": "display_data"
    }
   ],
   "source": [
    "plot_avgreward(\"gamma\", \"SARSA\")\n",
    "compare_algorithms(\"gamma\", 0.10)"
   ]
  },
  {
   "cell_type": "code",
   "execution_count": null,
   "id": "7913ae50-30d2-4c45-9ee7-c4379199f61b",
   "metadata": {},
   "outputs": [],
   "source": []
  }
 ],
 "metadata": {
  "kernelspec": {
   "display_name": "Python 3 (ipykernel)",
   "language": "python",
   "name": "python3"
  },
  "language_info": {
   "codemirror_mode": {
    "name": "ipython",
    "version": 3
   },
   "file_extension": ".py",
   "mimetype": "text/x-python",
   "name": "python",
   "nbconvert_exporter": "python",
   "pygments_lexer": "ipython3",
   "version": "3.9.21"
  }
 },
 "nbformat": 4,
 "nbformat_minor": 5
}
